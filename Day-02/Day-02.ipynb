{
 "cells": [
  {
   "cell_type": "markdown",
   "id": "3cb75fd8",
   "metadata": {},
   "source": [
    "## Markdown Format:"
   ]
  },
  {
   "cell_type": "markdown",
   "id": "ccf82fa0",
   "metadata": {},
   "source": [
    "### Styling Text\n",
    "\n",
    "Bold\n",
    "**Example for Bold**\n",
    "__Another Example for Bold__\n",
    "\n",
    "Italic\n",
    "*Example for Italic*\n",
    "_Another Example for Italic_\n",
    "\n",
    "Strikethrough\n",
    "~~Example for Strikethrough~~\n",
    "\n",
    "Bold and Nested Italic\n",
    "**Example for Bold and *Nested* Italic**\n",
    "\n",
    "All Bold and Italic\n",
    "***Example for All Bold and Italic***\n"
   ]
  },
  {
   "cell_type": "markdown",
   "id": "b851242f",
   "metadata": {},
   "source": [
    "### Quoting Text\n",
    "> Sample Example for Quoting text"
   ]
  },
  {
   "cell_type": "markdown",
   "id": "42a81596",
   "metadata": {},
   "source": [
    "### Quoting Code\n",
    "\n",
    "``\n",
    "Lesson-1\n",
    "Lesson-2\n",
    "``\n",
    "\n",
    "```\n",
    "    Lesson-1\n",
    "    Lesson-2\n",
    "```\n",
    "\n",
    "``\n",
    "    Lesson-1 \n",
    "    Lesson-2\n",
    "``"
   ]
  },
  {
   "cell_type": "markdown",
   "id": "1dcc7ae7",
   "metadata": {},
   "source": [
    "### Links\n",
    "\n",
    "College Link [View](https://vemu.org/)\n",
    "\n"
   ]
  },
  {
   "cell_type": "code",
   "execution_count": null,
   "id": "93431992",
   "metadata": {},
   "outputs": [],
   "source": []
  }
 ],
 "metadata": {
  "kernelspec": {
   "display_name": "Python 3 (ipykernel)",
   "language": "python",
   "name": "python3"
  },
  "language_info": {
   "codemirror_mode": {
    "name": "ipython",
    "version": 3
   },
   "file_extension": ".py",
   "mimetype": "text/x-python",
   "name": "python",
   "nbconvert_exporter": "python",
   "pygments_lexer": "ipython3",
   "version": "3.9.13"
  }
 },
 "nbformat": 4,
 "nbformat_minor": 5
}
