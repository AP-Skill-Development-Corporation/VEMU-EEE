{
 "cells": [
  {
   "cell_type": "markdown",
   "id": "a6bb09c6",
   "metadata": {},
   "source": [
    "## Relative Link "
   ]
  },
  {
   "cell_type": "markdown",
   "id": "351f70ba",
   "metadata": {},
   "source": [
    "File [View](demo.txt)\n",
    "\n",
    "Image [View](logo.jpeg)\n",
    "\n",
    "![Logo](sample.png)\n",
    "\n",
    "![View](https://www.inexture.com/wp-content/uploads/2023/07/choose-python-development-company-1100-x-600-%E2%80%93-2.png)"
   ]
  },
  {
   "cell_type": "markdown",
   "id": "ed268beb",
   "metadata": {},
   "source": [
    "## Keywords"
   ]
  },
  {
   "cell_type": "code",
   "execution_count": 1,
   "id": "11283f8f",
   "metadata": {},
   "outputs": [],
   "source": [
    "import keyword"
   ]
  },
  {
   "cell_type": "code",
   "execution_count": 2,
   "id": "bc8a45dc",
   "metadata": {},
   "outputs": [
    {
     "name": "stdout",
     "output_type": "stream",
     "text": [
      "['__all__', '__builtins__', '__cached__', '__doc__', '__file__', '__loader__', '__name__', '__package__', '__spec__', 'iskeyword', 'issoftkeyword', 'kwlist', 'softkwlist']\n"
     ]
    }
   ],
   "source": [
    "print(dir(keyword))"
   ]
  },
  {
   "cell_type": "code",
   "execution_count": 3,
   "id": "671f9de7",
   "metadata": {},
   "outputs": [
    {
     "name": "stdout",
     "output_type": "stream",
     "text": [
      "['False', 'None', 'True', '__peg_parser__', 'and', 'as', 'assert', 'async', 'await', 'break', 'class', 'continue', 'def', 'del', 'elif', 'else', 'except', 'finally', 'for', 'from', 'global', 'if', 'import', 'in', 'is', 'lambda', 'nonlocal', 'not', 'or', 'pass', 'raise', 'return', 'try', 'while', 'with', 'yield']\n"
     ]
    }
   ],
   "source": [
    "print(keyword.kwlist)"
   ]
  },
  {
   "cell_type": "code",
   "execution_count": 4,
   "id": "f3f4595c",
   "metadata": {},
   "outputs": [
    {
     "name": "stdout",
     "output_type": "stream",
     "text": [
      "36\n"
     ]
    }
   ],
   "source": [
    "print(len(keyword.kwlist))"
   ]
  },
  {
   "cell_type": "markdown",
   "id": "f9335689",
   "metadata": {},
   "source": [
    "## Operators\n",
    "    - Arithmetic => +,-,*,/,%,floor Division(//),Exponential(**) => Expression\n",
    "    - Assignment => +=,-=,*=,/=,//=,%=,**= => Loops or Expresssion or conditional \n",
    "    - Relational => ==,!=,>=,<=,>,< => Between operands, Comparision of values\n",
    "    - Logical => AND,OR,NOT => Between 2 conditions\n",
    "    - Bitwise => &,|,^,!,>>,<< => Between values or conditions\n",
    "    - Membership => in, not in => Data Structures, for loop\n",
    "    - Identity => is,is not => comaprision of memory of a string"
   ]
  },
  {
   "cell_type": "code",
   "execution_count": 5,
   "id": "ca86d68e",
   "metadata": {},
   "outputs": [
    {
     "name": "stdout",
     "output_type": "stream",
     "text": [
      "30\n",
      "45\n",
      "12\n",
      "12\n"
     ]
    }
   ],
   "source": [
    "a = 45\n",
    "b = 30\n",
    "print(a and b)\n",
    "print(b and a)\n",
    "print(a & b)\n",
    "print(b & a)"
   ]
  },
  {
   "cell_type": "code",
   "execution_count": 6,
   "id": "6ab22609",
   "metadata": {},
   "outputs": [
    {
     "name": "stdout",
     "output_type": "stream",
     "text": [
      "45\n",
      "30\n",
      "63\n",
      "63\n"
     ]
    }
   ],
   "source": [
    "print(a or b)\n",
    "print(b or a)\n",
    "print(a | b)\n",
    "print(b | a)"
   ]
  },
  {
   "cell_type": "markdown",
   "id": "a30657cf",
   "metadata": {},
   "source": [
    "## Input Formatting:\n",
    "    - It displays an info to a user\n",
    "    - It reads a value from a user\n",
    "    - By default it stores string data type values\n",
    "    Syntax:\n",
    "        variablename = input(\"Something info\")"
   ]
  },
  {
   "cell_type": "code",
   "execution_count": 6,
   "id": "400523e5",
   "metadata": {},
   "outputs": [
    {
     "name": "stdout",
     "output_type": "stream",
     "text": [
      "Enter a value: 3+5j\n",
      "3+5j <class 'str'>\n"
     ]
    }
   ],
   "source": [
    "n = input(\"Enter a value: \")\n",
    "print(n,type(n))"
   ]
  },
  {
   "cell_type": "code",
   "execution_count": 7,
   "id": "c7472a1a",
   "metadata": {},
   "outputs": [
    {
     "name": "stdout",
     "output_type": "stream",
     "text": [
      "45\n"
     ]
    }
   ],
   "source": [
    "z = 45\n",
    "print(z)"
   ]
  },
  {
   "cell_type": "code",
   "execution_count": 1,
   "id": "ef7fb294",
   "metadata": {},
   "outputs": [
    {
     "ename": "NameError",
     "evalue": "name 'a' is not defined",
     "output_type": "error",
     "traceback": [
      "\u001b[1;31m---------------------------------------------------------------------------\u001b[0m",
      "\u001b[1;31mNameError\u001b[0m                                 Traceback (most recent call last)",
      "Cell \u001b[1;32mIn[1], line 1\u001b[0m\n\u001b[1;32m----> 1\u001b[0m \u001b[43ma\u001b[49m\n",
      "\u001b[1;31mNameError\u001b[0m: name 'a' is not defined"
     ]
    }
   ],
   "source": [
    "a"
   ]
  },
  {
   "cell_type": "code",
   "execution_count": 8,
   "id": "ff501afd",
   "metadata": {},
   "outputs": [
    {
     "name": "stdout",
     "output_type": "stream",
     "text": [
      "Enter a value: 12\n",
      "Enter b value: 78.02\n",
      "12 <class 'str'>\n",
      "78.02 <class 'str'>\n"
     ]
    }
   ],
   "source": [
    "n = input(\"Enter a value: \")\n",
    "m = input(\"Enter b value: \")\n",
    "print(n,type(n))\n",
    "print(m,type(m))"
   ]
  },
  {
   "cell_type": "code",
   "execution_count": 9,
   "id": "44c11548",
   "metadata": {},
   "outputs": [
    {
     "name": "stdout",
     "output_type": "stream",
     "text": [
      "Enter a value: 45\n",
      "Enter b value: 3.151\n",
      "45 <class 'str'> 3.151 <class 'str'>\n"
     ]
    }
   ],
   "source": [
    "a,b = input(\"Enter a value: \"),input(\"Enter b value: \")\n",
    "print(a,type(a),b,type(b))"
   ]
  },
  {
   "cell_type": "markdown",
   "id": "088c4d12",
   "metadata": {},
   "source": [
    "## Output Formatting:\n",
    "    - , +\n",
    "    - %\n",
    "    - .format\n",
    "    - f"
   ]
  },
  {
   "cell_type": "markdown",
   "id": "96599d7f",
   "metadata": {},
   "source": [
    "```\n",
    "    Input:\n",
    "        Enter a value: ?\n",
    "        Enter b value: ?\n",
    "    Output:\n",
    "        Entered numbers are: ?,?\n",
    "        Entered values a = ? and b = ?\n",
    "        Addition of ? and ? is: ?\n",
    "```"
   ]
  },
  {
   "cell_type": "code",
   "execution_count": 16,
   "id": "4a9c2a22",
   "metadata": {},
   "outputs": [
    {
     "name": "stdout",
     "output_type": "stream",
     "text": [
      "Enter a value: 4\n",
      "Enter b value: 6\n",
      "Entered numbers are: 4 6\n",
      "Entered values a = 4 and b = 6\n",
      "Addition of 4 and 6 is: 46\n",
      "Addition of 4 and 6 is: 46\n",
      "Addition of 4 and 6 is: 46\n",
      "Addition of 6 and 4 is: 46\n",
      "Addition of 4 and 6 is: 46\n"
     ]
    }
   ],
   "source": [
    "n = input(\"Enter a value: \")\n",
    "m = input(\"Enter b value: \")\n",
    "print(\"Entered numbers are:\",n,m)\n",
    "print(\"Entered values a =\",n,\"and b =\",m)\n",
    "print(\"Addition of \"+n+\" and \"+m+\" is: \"+n+m)\n",
    "print(\"Addition of %s and %s is: %s\"%(n,m,n+m))\n",
    "print(\"Addition of {} and {} is: {}\".format(n,m,n+m))\n",
    "print(\"Addition of {1} and {0} is: {2}\".format(n,m,n+m))\n",
    "print(f\"Addition of {n} and {m} is: {n+m}\")"
   ]
  },
  {
   "cell_type": "markdown",
   "id": "f18acb76",
   "metadata": {},
   "source": [
    "## Typecasting:\n",
    "    - To change the data type of one type to another data type\n",
    "    - int()\n",
    "    - float()\n",
    "    - str()\n",
    "    - complex()\n",
    "    - All Data Structures Like [list(),tuple(),set() and dict()]"
   ]
  },
  {
   "cell_type": "code",
   "execution_count": 22,
   "id": "09164829",
   "metadata": {},
   "outputs": [
    {
     "name": "stdout",
     "output_type": "stream",
     "text": [
      "Enter a value: 2\n",
      "Enter b value: 5\n",
      "Entered numbers are: 2 5\n",
      "Entered values a = 2 and b = 5\n",
      "Addition of 2 and 5 is: 7\n",
      "Addition of 2 and 5 is: 7\n",
      "Addition of 2 and 5 is: 7\n",
      "Addition of 5 and 2 is: 7\n",
      "Addition of 2 and 5 is: 7\n"
     ]
    }
   ],
   "source": [
    "n = input(\"Enter a value: \")\n",
    "m = input(\"Enter b value: \")\n",
    "print(\"Entered numbers are:\",n,m)\n",
    "print(\"Entered values a =\",n,\"and b =\",m)\n",
    "print(\"Addition of \"+n+\" and \"+m+\" is: \"+str(int(n)+int(m)))\n",
    "print(\"Addition of %s and %s is: %d\"%(n,m,int(n)+int(m)))\n",
    "print(\"Addition of {} and {} is: {}\".format(n,m,int(n)+int(m)))\n",
    "print(\"Addition of {1} and {0} is: {2}\".format(n,m,int(n)+int(m)))\n",
    "print(f\"Addition of {n} and {m} is: {int(n)+int(m)}\")"
   ]
  },
  {
   "cell_type": "code",
   "execution_count": 23,
   "id": "40c3fa72",
   "metadata": {},
   "outputs": [
    {
     "name": "stdout",
     "output_type": "stream",
     "text": [
      "Enter a number: 45\n",
      "45 <class 'int'>\n"
     ]
    }
   ],
   "source": [
    "w = int(input(\"Enter a number: \"))\n",
    "print(w,type(w))"
   ]
  },
  {
   "cell_type": "markdown",
   "id": "3729576f",
   "metadata": {},
   "source": [
    "```\n",
    "    Expression: 5x**2+30y\n",
    "    Input:\n",
    "        Enter x value: ?\n",
    "        Enter y value: ?\n",
    "    Output:\n",
    "        Entered numbers are: ?,?\n",
    "        Expression for 5x**2+30y is: ?\n",
    "```"
   ]
  },
  {
   "cell_type": "code",
   "execution_count": 25,
   "id": "59ad18da",
   "metadata": {},
   "outputs": [
    {
     "name": "stdout",
     "output_type": "stream",
     "text": [
      "Enter x value: 5\n",
      "Enter y value: 6\n",
      "Entered numbers are:  5 6\n",
      "Expression for 5x**2+30y is:  305\n"
     ]
    }
   ],
   "source": [
    "a=int(input(\"Enter x value: \"))\n",
    "b=int(input(\"Enter y value: \"))\n",
    "print(\"Entered numbers are: \",a,b)\n",
    "print(\"Expression for 5x**2+30y is: \",5*a**2+30*b)"
   ]
  },
  {
   "cell_type": "markdown",
   "id": "11052604",
   "metadata": {},
   "source": [
    "## Conditional Statements:\n",
    "    - To check whether a given condition is either True or False\n",
    "    - if => single\n",
    "    - if-else => 2 cases\n",
    "    - nested if => 2 or more\n",
    "    - elif => 3 or more n number of cases"
   ]
  },
  {
   "cell_type": "markdown",
   "id": "cc1b6250",
   "metadata": {},
   "source": [
    "## if\n",
    "    Syntax:\n",
    "        if condition:\n",
    "            //statement\n",
    "        () => Optional"
   ]
  },
  {
   "cell_type": "code",
   "execution_count": 29,
   "id": "09af946e",
   "metadata": {},
   "outputs": [
    {
     "name": "stdout",
     "output_type": "stream",
     "text": [
      "Enter a value: 36\n",
      "Entered number 36 is Greater to 25\n"
     ]
    }
   ],
   "source": [
    "k = int(input(\"Enter a value: \"))\n",
    "if k >= 25:\n",
    "    print(f\"Entered number {k} is Greater to 25\")"
   ]
  },
  {
   "cell_type": "markdown",
   "id": "a52308f0",
   "metadata": {},
   "source": [
    "```\n",
    "    If entered number is divisible by 3 then need to execute this expression with final value as a result \n",
    "    Expresssion: 25x**3+3y**2+10z\n",
    "    \n",
    "```"
   ]
  },
  {
   "cell_type": "code",
   "execution_count": 31,
   "id": "8200803d",
   "metadata": {},
   "outputs": [
    {
     "name": "stdout",
     "output_type": "stream",
     "text": [
      "Enter a value: 7\n"
     ]
    }
   ],
   "source": [
    "w = int(input(\"Enter a value: \"))\n",
    "if w%3==0:\n",
    "    x = int(input())\n",
    "    y = int(input())\n",
    "    z = int(input())\n",
    "    print(25*x**3+3*y**2+10*z)"
   ]
  },
  {
   "cell_type": "code",
   "execution_count": null,
   "id": "df591e2d",
   "metadata": {},
   "outputs": [],
   "source": []
  }
 ],
 "metadata": {
  "kernelspec": {
   "display_name": "Python 3 (ipykernel)",
   "language": "python",
   "name": "python3"
  },
  "language_info": {
   "codemirror_mode": {
    "name": "ipython",
    "version": 3
   },
   "file_extension": ".py",
   "mimetype": "text/x-python",
   "name": "python",
   "nbconvert_exporter": "python",
   "pygments_lexer": "ipython3",
   "version": "3.9.13"
  }
 },
 "nbformat": 4,
 "nbformat_minor": 5
}
