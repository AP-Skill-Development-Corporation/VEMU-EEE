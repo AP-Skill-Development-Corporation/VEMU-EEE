{
 "cells": [
  {
   "cell_type": "markdown",
   "id": "cb471057",
   "metadata": {},
   "source": [
    "# Python Basics"
   ]
  },
  {
   "cell_type": "markdown",
   "id": "4f75d972",
   "metadata": {},
   "source": [
    "## Variables:\n",
    "    - To stores a value\n",
    "    - To change a value\n",
    "    Syntax:\n",
    "        variablename = value"
   ]
  },
  {
   "cell_type": "code",
   "execution_count": 1,
   "id": "7e84ac64",
   "metadata": {},
   "outputs": [
    {
     "data": {
      "text/plain": [
       "20"
      ]
     },
     "execution_count": 1,
     "metadata": {},
     "output_type": "execute_result"
    }
   ],
   "source": [
    "a = 20\n",
    "a"
   ]
  },
  {
   "cell_type": "code",
   "execution_count": 2,
   "id": "d05de826",
   "metadata": {},
   "outputs": [
    {
     "data": {
      "text/plain": [
       "23.012"
      ]
     },
     "execution_count": 2,
     "metadata": {},
     "output_type": "execute_result"
    }
   ],
   "source": [
    "b = 23.012\n",
    "b"
   ]
  },
  {
   "cell_type": "code",
   "execution_count": 3,
   "id": "a86ee208",
   "metadata": {},
   "outputs": [
    {
     "data": {
      "text/plain": [
       "23.012"
      ]
     },
     "execution_count": 3,
     "metadata": {},
     "output_type": "execute_result"
    }
   ],
   "source": [
    "a\n",
    "b"
   ]
  },
  {
   "cell_type": "code",
   "execution_count": 4,
   "id": "f7453c44",
   "metadata": {},
   "outputs": [
    {
     "data": {
      "text/plain": [
       "20"
      ]
     },
     "execution_count": 4,
     "metadata": {},
     "output_type": "execute_result"
    }
   ],
   "source": [
    "b\n",
    "a"
   ]
  },
  {
   "cell_type": "code",
   "execution_count": 5,
   "id": "3d9e787e",
   "metadata": {},
   "outputs": [
    {
     "data": {
      "text/plain": [
       "(20, 23.012)"
      ]
     },
     "execution_count": 5,
     "metadata": {},
     "output_type": "execute_result"
    }
   ],
   "source": [
    "a,b"
   ]
  },
  {
   "cell_type": "markdown",
   "id": "18eb70ff",
   "metadata": {},
   "source": [
    "## Variable Assignments\n",
    "    - single variable equal to single value\n",
    "    - n number of variables equal to n number of values\n",
    "    - n number of varialbes equal to single value\n",
    "    - single variable equal to n number of values"
   ]
  },
  {
   "cell_type": "code",
   "execution_count": 6,
   "id": "98b5439d",
   "metadata": {},
   "outputs": [
    {
     "data": {
      "text/plain": [
       "(45, 12.024)"
      ]
     },
     "execution_count": 6,
     "metadata": {},
     "output_type": "execute_result"
    }
   ],
   "source": [
    "# single variable to single value\n",
    "q = 45\n",
    "y = 12.024\n",
    "q,y"
   ]
  },
  {
   "cell_type": "code",
   "execution_count": 8,
   "id": "0800a0f6",
   "metadata": {},
   "outputs": [
    {
     "data": {
      "text/plain": [
       "(30, 56.0121)"
      ]
     },
     "execution_count": 8,
     "metadata": {},
     "output_type": "execute_result"
    }
   ],
   "source": [
    "# n number of variables to n number of values \n",
    "z,b = 30,56.0121\n",
    "z,b"
   ]
  },
  {
   "cell_type": "code",
   "execution_count": 9,
   "id": "0f49893b",
   "metadata": {},
   "outputs": [
    {
     "ename": "ValueError",
     "evalue": "too many values to unpack (expected 3)",
     "output_type": "error",
     "traceback": [
      "\u001b[1;31m---------------------------------------------------------------------------\u001b[0m",
      "\u001b[1;31mValueError\u001b[0m                                Traceback (most recent call last)",
      "Cell \u001b[1;32mIn[9], line 1\u001b[0m\n\u001b[1;32m----> 1\u001b[0m a,b,c \u001b[38;5;241m=\u001b[39m \u001b[38;5;241m12\u001b[39m,\u001b[38;5;241m25.0121\u001b[39m,\u001b[38;5;124m\"\u001b[39m\u001b[38;5;124mkishore\u001b[39m\u001b[38;5;124m\"\u001b[39m,\u001b[38;5;124m'\u001b[39m\u001b[38;5;124m12\u001b[39m\u001b[38;5;124m'\u001b[39m\n\u001b[0;32m      2\u001b[0m a,b,c\n",
      "\u001b[1;31mValueError\u001b[0m: too many values to unpack (expected 3)"
     ]
    }
   ],
   "source": [
    "a,b,c = 12,25.0121,\"kishore\",'12'\n",
    "a,b,c"
   ]
  },
  {
   "cell_type": "code",
   "execution_count": 10,
   "id": "5287c188",
   "metadata": {},
   "outputs": [
    {
     "ename": "ValueError",
     "evalue": "not enough values to unpack (expected 5, got 4)",
     "output_type": "error",
     "traceback": [
      "\u001b[1;31m---------------------------------------------------------------------------\u001b[0m",
      "\u001b[1;31mValueError\u001b[0m                                Traceback (most recent call last)",
      "Cell \u001b[1;32mIn[10], line 1\u001b[0m\n\u001b[1;32m----> 1\u001b[0m a,b,c,d,e \u001b[38;5;241m=\u001b[39m \u001b[38;5;241m12\u001b[39m,\u001b[38;5;241m25.0121\u001b[39m,\u001b[38;5;124m\"\u001b[39m\u001b[38;5;124mkishore\u001b[39m\u001b[38;5;124m\"\u001b[39m,\u001b[38;5;124m'\u001b[39m\u001b[38;5;124m12\u001b[39m\u001b[38;5;124m'\u001b[39m\n\u001b[0;32m      2\u001b[0m a,b,c,d,e\n",
      "\u001b[1;31mValueError\u001b[0m: not enough values to unpack (expected 5, got 4)"
     ]
    }
   ],
   "source": [
    "a,b,c,d,e = 12,25.0121,\"kishore\",'12'\n",
    "a,b,c,d,e"
   ]
  },
  {
   "cell_type": "code",
   "execution_count": 11,
   "id": "3c2049f6",
   "metadata": {},
   "outputs": [
    {
     "data": {
      "text/plain": [
       "(250, 250, 250)"
      ]
     },
     "execution_count": 11,
     "metadata": {},
     "output_type": "execute_result"
    }
   ],
   "source": [
    "# n nuumber of variables to single value\n",
    "q = w = r = 250\n",
    "q,w,r"
   ]
  },
  {
   "cell_type": "code",
   "execution_count": 12,
   "id": "ef119538",
   "metadata": {},
   "outputs": [
    {
     "data": {
      "text/plain": [
       "(15, 56.015, 'Lokesh', '450')"
      ]
     },
     "execution_count": 12,
     "metadata": {},
     "output_type": "execute_result"
    }
   ],
   "source": [
    "# single variable to n number of values\n",
    "b = 15,56.015,\"Lokesh\",'450'\n",
    "b"
   ]
  },
  {
   "cell_type": "markdown",
   "id": "b612e7e8",
   "metadata": {},
   "source": [
    "## Data Types:\n",
    "    - int => Only numbers\n",
    "    - float => numbers and decimal values\n",
    "    - string => enclosed with ' or \"\n",
    "    - complex => real and imaginary\n",
    "    - boolean => True or False\n",
    "    - none => None\n",
    "    - All Data Structures[List,Tuple,Set and Dictionary]"
   ]
  },
  {
   "cell_type": "markdown",
   "id": "6aabf204",
   "metadata": {},
   "source": [
    "## Type:\n",
    "    - To know the data type of a variable\n",
    "    Syntax:\n",
    "        type(variablename)"
   ]
  },
  {
   "cell_type": "code",
   "execution_count": 13,
   "id": "c82a5f13",
   "metadata": {},
   "outputs": [
    {
     "data": {
      "text/plain": [
       "('35', str)"
      ]
     },
     "execution_count": 13,
     "metadata": {},
     "output_type": "execute_result"
    }
   ],
   "source": [
    "b = '35'\n",
    "b,type(b)"
   ]
  },
  {
   "cell_type": "code",
   "execution_count": 14,
   "id": "51a2ea90",
   "metadata": {},
   "outputs": [
    {
     "name": "stdout",
     "output_type": "stream",
     "text": [
      "93 <class 'str'>\n"
     ]
    },
    {
     "data": {
      "text/plain": [
       "('93', str)"
      ]
     },
     "execution_count": 14,
     "metadata": {},
     "output_type": "execute_result"
    }
   ],
   "source": [
    "c = '93'\n",
    "print(c,type(c))\n",
    "c,type(c)"
   ]
  },
  {
   "cell_type": "code",
   "execution_count": 15,
   "id": "9e1fb63b",
   "metadata": {},
   "outputs": [
    {
     "name": "stdout",
     "output_type": "stream",
     "text": [
      "35 <class 'int'>\n"
     ]
    },
    {
     "data": {
      "text/plain": [
       "(35, int)"
      ]
     },
     "execution_count": 15,
     "metadata": {},
     "output_type": "execute_result"
    }
   ],
   "source": [
    "d = 35\n",
    "print(d,type(d))\n",
    "d,type(d)"
   ]
  },
  {
   "cell_type": "code",
   "execution_count": 16,
   "id": "f4d15273",
   "metadata": {},
   "outputs": [
    {
     "name": "stdout",
     "output_type": "stream",
     "text": [
      "14 <class 'int'>\n",
      "56.01221 <class 'float'>\n",
      "(5+6j) <class 'complex'>\n",
      "True <class 'bool'>\n",
      "None <class 'NoneType'>\n",
      "Lokesh <class 'str'>\n"
     ]
    }
   ],
   "source": [
    "a,b,c,d,e,f = 14,56.01221,5+6j,True,None,'Lokesh'\n",
    "print(a,type(a))\n",
    "print(b,type(b))\n",
    "print(c,type(c))\n",
    "print(d,type(d))\n",
    "print(e,type(e))\n",
    "print(f,type(f))"
   ]
  },
  {
   "cell_type": "code",
   "execution_count": null,
   "id": "017ef95b",
   "metadata": {},
   "outputs": [],
   "source": []
  }
 ],
 "metadata": {
  "kernelspec": {
   "display_name": "Python 3 (ipykernel)",
   "language": "python",
   "name": "python3"
  },
  "language_info": {
   "codemirror_mode": {
    "name": "ipython",
    "version": 3
   },
   "file_extension": ".py",
   "mimetype": "text/x-python",
   "name": "python",
   "nbconvert_exporter": "python",
   "pygments_lexer": "ipython3",
   "version": "3.9.13"
  }
 },
 "nbformat": 4,
 "nbformat_minor": 5
}
